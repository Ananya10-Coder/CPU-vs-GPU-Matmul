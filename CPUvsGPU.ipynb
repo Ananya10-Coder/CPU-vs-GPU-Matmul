{
  "nbformat": 4,
  "nbformat_minor": 0,
  "metadata": {
    "colab": {
      "provenance": [],
      "gpuType": "T4",
      "include_colab_link": true
    },
    "kernelspec": {
      "name": "python3",
      "display_name": "Python 3"
    },
    "language_info": {
      "name": "python"
    },
    "accelerator": "GPU"
  },
  "cells": [
    {
      "cell_type": "markdown",
      "metadata": {
        "id": "view-in-github",
        "colab_type": "text"
      },
      "source": [
        "<a href=\"https://colab.research.google.com/github/Ananya10-Coder/CUDA-accelerated-GPU/blob/main/CPUvsGPU.ipynb\" target=\"_parent\"><img src=\"https://colab.research.google.com/assets/colab-badge.svg\" alt=\"Open In Colab\"/></a>"
      ]
    },
    {
      "cell_type": "code",
      "execution_count": 1,
      "metadata": {
        "colab": {
          "base_uri": "https://localhost:8080/"
        },
        "id": "nENzcSfOgI9F",
        "outputId": "4ff387b0-0021-4d93-d9f3-c7b932963e5e"
      },
      "outputs": [
        {
          "output_type": "stream",
          "name": "stdout",
          "text": [
            "Average time taken by CPU over 100 epochs: 0.286889 seconds\n",
            "Average time taken by GPU over 100 epochs: 0.054910 seconds\n",
            "Speedup: 5.22x\n"
          ]
        }
      ],
      "source": [
        "# Import necessary libraries\n",
        "import numpy as np\n",
        "import time\n",
        "import cupy as cp\n",
        "\n",
        "# Function to perform complex matrix multiplication on the CPU\n",
        "def cpu_complex_matrix_multiplication(A, B):\n",
        "    return np.matmul(A, B)\n",
        "\n",
        "# Function to perform complex matrix multiplication on the GPU\n",
        "def gpu_complex_matrix_multiplication(A, B):\n",
        "    A_gpu = cp.array(A)\n",
        "    B_gpu = cp.array(B)\n",
        "    return cp.matmul(A_gpu, B_gpu)\n",
        "\n",
        "# Define matrix size\n",
        "N = 1000\n",
        "\n",
        "# Generate random complex matrices\n",
        "A = np.random.rand(N, N) + 1j * np.random.rand(N, N)\n",
        "B = np.random.rand(N, N) + 1j * np.random.rand(N, N)\n",
        "\n",
        "# Measure time for CPU computation over 100 epochs\n",
        "cpu_times = []\n",
        "for _ in range(100):\n",
        "    start_cpu = time.time()\n",
        "    C_cpu = cpu_complex_matrix_multiplication(A, B)\n",
        "    end_cpu = time.time()\n",
        "    cpu_times.append(end_cpu - start_cpu)\n",
        "\n",
        "# Measure time for GPU computation over 100 epochs\n",
        "gpu_times = []\n",
        "for _ in range(100):\n",
        "    start_gpu = time.time()\n",
        "    C_gpu = gpu_complex_matrix_multiplication(A, B)\n",
        "    cp.cuda.Stream.null.synchronize()  # Ensure all GPU computations are finished\n",
        "    end_gpu = time.time()\n",
        "    gpu_times.append(end_gpu - start_gpu)\n",
        "\n",
        "# Calculate average times\n",
        "avg_cpu_time = sum(cpu_times) / len(cpu_times)\n",
        "avg_gpu_time = sum(gpu_times) / len(gpu_times)\n",
        "\n",
        "# Print the results\n",
        "print(f\"Average time taken by CPU over 100 epochs: {avg_cpu_time:.6f} seconds\")\n",
        "print(f\"Average time taken by GPU over 100 epochs: {avg_gpu_time:.6f} seconds\")\n",
        "print(f\"Speedup: {avg_cpu_time / avg_gpu_time:.2f}x\")\n",
        "\n"
      ]
    }
  ]
}